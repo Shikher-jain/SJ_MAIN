{
 "cells": [
  {
   "cell_type": "code",
   "execution_count": 15,
   "metadata": {},
   "outputs": [
    {
     "ename": "SyntaxError",
     "evalue": "invalid syntax (4209746737.py, line 1)",
     "output_type": "error",
     "traceback": [
      "\u001b[1;36m  Cell \u001b[1;32mIn[15], line 1\u001b[1;36m\u001b[0m\n\u001b[1;33m    capitalize()\tConverts the first character to upper case\u001b[0m\n\u001b[1;37m                \t^\u001b[0m\n\u001b[1;31mSyntaxError\u001b[0m\u001b[1;31m:\u001b[0m invalid syntax\n"
     ]
    }
   ],
   "source": [
    "\n",
    "capitalize()\t    Converts the first character to upper case\n",
    "casefold()      \tConverts string into lower case\n",
    "center()\t        Returns a centered string\n",
    "count() \t        Returns the number of times a specified value occurs in a string\n",
    "encode()    \t    Returns an encoded version of the string\n",
    "endswith()\t        Returns true if the string ends with the specified value\n",
    "expandtabs()\t    Sets the tab size of the string\n",
    "find()\t            Searches the string for a specified value and returns the position of where it was found\n",
    "format()\t        Formats specified values in a string\n",
    "format_map()\t    Formats specified values in a string\n",
    "index()\t            Searches the string for a specified value and returns the position of where it was found\n",
    "isalnum()\t        Returns True if all characters in the string are alphanumeric\n",
    "isalpha()\t        Returns True if all characters in the string are in the alphabet\n",
    "isascii()\t        Returns True if all characters in the string are ascii characters\n",
    "isdecimal()\t        Returns True if all characters in the string are decimals\n",
    "isdigit()       \tReturns True if all characters in the string are digits\n",
    "isidentifier()      Returns True if the string is an identifier\n",
    "islower()\t        Returns True if all characters in the string are lower case\n",
    "isnumeric()\t        Returns True if all characters in the string are numeric\n",
    "isprintable()\t    Returns True if all characters in the string are printable\n",
    "isspace()\t        Returns True if all characters in the string are whitespaces\n",
    "istitle()\t        Returns True if the string follows the rules of a title\n",
    "isupper()\t        Returns True if all characters in the string are upper case\n",
    "join()\t            Joins the elements of an iterable to the end of the string\n",
    "ljust()\t            Returns a left justified version of the string\n",
    "lower()\t            Converts a string into lower case\n",
    "lstrip()\t        Returns a left trim version of the string\n",
    "maketrans()\t        Returns a translation table to be used in translations\n",
    "partition()\t        Returns a tuple where the string is parted into three parts\n",
    "replace()\t        Returns a string where a specified value is replaced with a specified value\n",
    "rfind()\t            Searches the string for a specified value and returns the last position of where it was found\n",
    "rindex()    \t    Searches the string for a specified value and returns the last position of where it was found\n",
    "rjust()\t            Returns a right justified version of the string\n",
    "rpartition()    \tReturns a tuple where the string is parted into three parts\n",
    "rsplit()\t        Splits the string at the specified separator, and returns a list\n",
    "rstrip()\t        Returns a right trim version of the string\n",
    "split()         \tSplits the string at the specified separator, and returns a list\n",
    "splitlines()\t    Splits the string at line breaks and returns a list\n",
    "startswith()\t    Returns true if the string starts with the specified value\n",
    "strip()         \tReturns a trimmed version of the string\n",
    "swapcase()\t        Swaps cases, lower case becomes upper case and vice versa\n",
    "title()         \tConverts the first character of each word to upper case\n",
    "translate()     \tReturns a translated string\n",
    "upper()\t            Converts a string into upper case\n",
    "zfill()\t            Fills the string with a specified number of 0 values at the beginning"
   ]
  },
  {
   "cell_type": "code",
   "execution_count": 14,
   "metadata": {},
   "outputs": [],
   "source": [
    "a = \"hello\"\n",
    "b = \"welcome to the jungle\"\n",
    "c = \"10.000\"\n"
   ]
  }
 ],
 "metadata": {
  "kernelspec": {
   "display_name": "Python 3",
   "language": "python",
   "name": "python3"
  },
  "language_info": {
   "codemirror_mode": {
    "name": "ipython",
    "version": 3
   },
   "file_extension": ".py",
   "mimetype": "text/x-python",
   "name": "python",
   "nbconvert_exporter": "python",
   "pygments_lexer": "ipython3",
   "version": "3.12.3"
  }
 },
 "nbformat": 4,
 "nbformat_minor": 2
}

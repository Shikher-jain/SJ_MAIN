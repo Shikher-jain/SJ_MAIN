{
 "cells": [
  {
   "cell_type": "code",
   "execution_count": null,
   "metadata": {},
   "outputs": [],
   "source": [
    "#\n",
    "\n",
    "class Solution:\n",
    "    # @param A : list of integers\n",
    "    # @return a list of integers\n",
    "    def solve(self, A):\n",
    "        C=[]\n",
    "        B= [x for x in range(1,len(A)+3)]# B=[1,2,3,4,5,6]\n",
    "        for j in range(len(B)):\n",
    "            if (B[j] not in A):\n",
    "                # print(B[j])\n",
    "                C.append(B[j])\n",
    "        return C\n",
    "\n"
   ]
  },
  {
   "cell_type": "code",
   "execution_count": 60,
   "metadata": {},
   "outputs": [
    {
     "name": "stdout",
     "output_type": "stream",
     "text": [
      "4\n",
      "3\n",
      "3\n",
      "2 6\n"
     ]
    },
    {
     "ename": "IndexError",
     "evalue": "list index out of range",
     "output_type": "error",
     "traceback": [
      "\u001b[1;31m---------------------------------------------------------------------------\u001b[0m",
      "\u001b[1;31mIndexError\u001b[0m                                Traceback (most recent call last)",
      "Cell \u001b[1;32mIn[60], line 27\u001b[0m\n\u001b[0;32m     24\u001b[0m \u001b[38;5;28mprint\u001b[39m(XOR1,XOR2)\n\u001b[0;32m     26\u001b[0m \u001b[38;5;28;01mfor\u001b[39;00m i \u001b[38;5;129;01min\u001b[39;00m \u001b[38;5;28mrange\u001b[39m(\u001b[38;5;241m1\u001b[39m,\u001b[38;5;28mlen\u001b[39m(A)\u001b[38;5;241m+\u001b[39m\u001b[38;5;241m3\u001b[39m):\n\u001b[1;32m---> 27\u001b[0m     \u001b[38;5;28;01mif\u001b[39;00m ((\u001b[43mA\u001b[49m\u001b[43m[\u001b[49m\u001b[43mi\u001b[49m\u001b[43m]\u001b[49m\u001b[38;5;241m>>\u001b[39mb)\u001b[38;5;241m&\u001b[39m\u001b[38;5;241m1\u001b[39m\u001b[38;5;241m==\u001b[39m\u001b[38;5;241m1\u001b[39m):\n\u001b[0;32m     28\u001b[0m         XOR1\u001b[38;5;241m^\u001b[39m\u001b[38;5;241m=\u001b[39mi\n\u001b[0;32m     29\u001b[0m     \u001b[38;5;28;01melse\u001b[39;00m:\n",
      "\u001b[1;31mIndexError\u001b[0m: list index out of range"
     ]
    }
   ],
   "source": [
    "A = [3,1, 2, 4]\n",
    "\n",
    "XOR=0\n",
    "for i in range(len(A)):\n",
    "    XOR^=A[i]\n",
    "print(XOR)\n",
    "for i in range(1,len(A)+3):\n",
    "    XOR^=i\n",
    "print(XOR)\n",
    "b=-1  #A[i]<=10^9\n",
    "for i in range(32):\n",
    "    if ((XOR>>i)&1==1):\n",
    "        b=i\n",
    "    break\n",
    "\n",
    "print(XOR)\n",
    "XOR1=0\n",
    "XOR2=0\n",
    "for i in range(len(A)):\n",
    "    if ((A[i]>>b)&1==1):\n",
    "        XOR1^=A[i]\n",
    "    else:\n",
    "        XOR2^=A[i]\n",
    "print(XOR1,XOR2)\n",
    "\n",
    "for i in range(1,len(A)+3):\n",
    "    if ((A[i]>>b)&1==1):\n",
    "        XOR1^=i\n",
    "    else:\n",
    "        XOR2^=i\n"
   ]
  },
  {
   "cell_type": "code",
   "execution_count": 210,
   "metadata": {},
   "outputs": [
    {
     "name": "stdout",
     "output_type": "stream",
     "text": [
      "51\n",
      "52\n",
      "(51, 52)\n"
     ]
    }
   ],
   "source": [
    "# A = [4,2,3,5]\n",
    "\n",
    "def solve(A):\n",
    "    C=[]\n",
    "    B= [x for x in range(1,len(A)+3)]# B=[1,2,3,4,5,6]\n",
    "    for j in range(len(B)):\n",
    "        if (B[j] not in A):\n",
    "            print(B[j])\n",
    "            C.append(B[j])\n",
    "    return C[0], C[1]\n",
    "            \n",
    "A=[5,45,80,44,6,35,30,43,24,22,90,23,13,85,78,68,12,61,42,3,76,82,38,37,53,26,96,20,50,77,74,93,2,9,10,55,89,8,72,58,70,59,1,29,49,19,27,60,63,28,54,48,95,57,47,64,79,65,17,39,7,62,40,97,66,94,67,75,33,69,91,41,32,34,73,81,31,86,21,84,16,25,88,18,14,92,71,87,36,56,15,4,11,46,83]\n",
    "print(solve(A))\n",
    "# solve(A)"
   ]
  },
  {
   "cell_type": "code",
   "execution_count": 225,
   "metadata": {},
   "outputs": [
    {
     "name": "stdout",
     "output_type": "stream",
     "text": [
      "[1, 6]\n"
     ]
    }
   ],
   "source": [
    "# A = [4,2,3,5]\n",
    "\n",
    "def solve(A):\n",
    "    C=[]\n",
    "    B= [x for x in range(1,len(A)+3)]# B=[1,2,3,4,5,6]\n",
    "    for j in range(len(B)):\n",
    "        if (B[j] not in A):\n",
    "            # print(B[j])\n",
    "            C.append(B[j])\n",
    "    # return C[0], C[1]\n",
    "    return C\n",
    "            \n",
    "A=[5,45,80,44,6,35,30,43,24,22,90,23,13,85,78,68,12,61,42,3,76,82,38,37,53,26,96,20,50,77,74,93,2,9,10,55,89,8,72,58,70,59,1,29,49,19,27,60,63,28,54,48,95,57,47,64,79,65,17,39,7,62,40,97,66,94,67,75,33,69,91,41,32,34,73,81,31,86,21,84,16,25,88,18,14,92,71,87,36,56,15,4,11,46,83]\n",
    "A=[4,5,2,9,3,7,8,11,10]\n",
    "print(solve(A))\n",
    "# solve(A)"
   ]
  },
  {
   "cell_type": "code",
   "execution_count": null,
   "metadata": {},
   "outputs": [],
   "source": []
  },
  {
   "cell_type": "code",
   "execution_count": 161,
   "metadata": {},
   "outputs": [
    {
     "name": "stdout",
     "output_type": "stream",
     "text": [
      "51\n"
     ]
    }
   ],
   "source": [
    "def solve( A):\n",
    "    B= [x for x in range(1,len(A)+3)]\n",
    "    for j in range(len(B)):\n",
    "        if (B[j] not in A):\n",
    "            return(B[j])\n",
    "        \n",
    "A=[5,45,80,44,6,35,30,43,24,22,90,23,13,85,78,68,12,61,42,3,76,82,38,37,53,26,96,20,50,77,74,93,2,9,10,55,89,8,72,58,70,59,1,29,49,19,27,60,63,28,54,48,95,57,47,64,79,65,17,39,7,62,40,97,66,94,67,75,33,69,91,41,32,34,73,81,31,86,21,84,16,25,88,18,14,92,71,87,36,56,15,4,11,46,83]\n",
    "print(solve(A))"
   ]
  },
  {
   "cell_type": "code",
   "execution_count": 130,
   "metadata": {},
   "outputs": [
    {
     "ename": "IndexError",
     "evalue": "list index out of range",
     "output_type": "error",
     "traceback": [
      "\u001b[1;31m---------------------------------------------------------------------------\u001b[0m",
      "\u001b[1;31mIndexError\u001b[0m                                Traceback (most recent call last)",
      "Cell \u001b[1;32mIn[130], line 20\u001b[0m\n\u001b[0;32m     17\u001b[0m         XOR2\u001b[38;5;241m^\u001b[39m\u001b[38;5;241m=\u001b[39mA[i]\n\u001b[0;32m     19\u001b[0m \u001b[38;5;28;01mfor\u001b[39;00m i \u001b[38;5;129;01min\u001b[39;00m \u001b[38;5;28mrange\u001b[39m(\u001b[38;5;28mlen\u001b[39m(A)\u001b[38;5;241m+\u001b[39m\u001b[38;5;241m3\u001b[39m):\u001b[38;5;66;03m#3\u001b[39;00m\n\u001b[1;32m---> 20\u001b[0m     \u001b[38;5;28;01mif\u001b[39;00m ((\u001b[43mA\u001b[49m\u001b[43m[\u001b[49m\u001b[43mi\u001b[49m\u001b[43m]\u001b[49m\u001b[38;5;241m>>\u001b[39mb)\u001b[38;5;241m&\u001b[39m\u001b[38;5;241m1\u001b[39m\u001b[38;5;241m==\u001b[39m\u001b[38;5;241m1\u001b[39m):\n\u001b[0;32m     21\u001b[0m         XOR1\u001b[38;5;241m^\u001b[39m\u001b[38;5;241m=\u001b[39mi\n\u001b[0;32m     22\u001b[0m     \u001b[38;5;28;01melse\u001b[39;00m:\n",
      "\u001b[1;31mIndexError\u001b[0m: list index out of range"
     ]
    }
   ],
   "source": [
    "\n",
    "XOR=0\n",
    "for i in range(len(A)):#-1\n",
    "    XOR^=A[i]\n",
    "for i in range(len(A)+3):#3\n",
    "    XOR^=i\n",
    "b=-1  #A[i]<=10^9\n",
    "for i in range(32):\n",
    "    if ((XOR>>i)&1==1):\n",
    "        b=i\n",
    "    break\n",
    "\n",
    "XOR1=0;XOR2=0\n",
    "for i in range(len(A)):#-1\n",
    "    if ((A[i]>>b)&1==1):\n",
    "        XOR1^=A[i]\n",
    "    else:\n",
    "        XOR2^=A[i]\n",
    "\n",
    "for i in range(len(A)+3):#3\n",
    "    if ((A[i]>>b)&1==1):\n",
    "        XOR1^=i\n",
    "    else:\n",
    "        XOR2^=i\n"
   ]
  }
 ],
 "metadata": {
  "kernelspec": {
   "display_name": "Python 3",
   "language": "python",
   "name": "python3"
  },
  "language_info": {
   "codemirror_mode": {
    "name": "ipython",
    "version": 3
   },
   "file_extension": ".py",
   "mimetype": "text/x-python",
   "name": "python",
   "nbconvert_exporter": "python",
   "pygments_lexer": "ipython3",
   "version": "3.12.3"
  }
 },
 "nbformat": 4,
 "nbformat_minor": 2
}

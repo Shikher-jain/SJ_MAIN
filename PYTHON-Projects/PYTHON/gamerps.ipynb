{
 "cells": [
  {
   "cell_type": "code",
   "execution_count": 2,
   "metadata": {},
   "outputs": [
    {
     "name": "stdout",
     "output_type": "stream",
     "text": [
      "WELCOME\n"
     ]
    },
    {
     "name": "stdout",
     "output_type": "stream",
     "text": [
      "\n",
      " It's 3 times\n",
      "YOU WIN\n",
      "\n",
      " It's 2 times\n",
      "YOU LOSE\n",
      "\n",
      " It's 1 times\n",
      "YOU WIN\n",
      "Score will be:\n",
      "USER\tBOT\tDRAW\n",
      "2\t1\t0\n",
      "YOU WIN\n"
     ]
    }
   ],
   "source": [
    "# ROCK PAPER SCISSOR\n",
    "import random\n",
    "scoreC=0  #computer score \n",
    "scoreU=0  #user score \n",
    "scoreD=0  #draw score \n",
    "print(\"WELCOME\")\n",
    "n=int(input(\"How many times you want to play:\"))\n",
    "while(n):\n",
    "    print(f\"\\n It's {n} times\")\n",
    "    user=input(\"\\nEnter : \\nR for ROCK \\nP for PAPER \\nS for SCISSORRS \\n=>\")\n",
    "    if (user==\"R\" or user==\"r\"):\n",
    "        user= -1\n",
    "    elif (user==\"P\" or user==\"p\"):\n",
    "        user= 0\n",
    "    elif (user==\"S\" or user==\"s\"):\n",
    "        user= 1\n",
    "    else:\n",
    "        print(\"Invalid Alphabhets!! \")\n",
    "        n+=1\n",
    "\n",
    "    comp = random.randint(-1,1)\n",
    "    if(comp==user):\n",
    "        print(\"DRAW\")\n",
    "        scoreD=scoreD+1\n",
    "\n",
    "    if(user==-1):#ROCK\n",
    "        if(comp==0):#PAPER\n",
    "            print(\"YOU LOSE\")\n",
    "            scoreC=scoreC+1\n",
    "        if(comp==1):#SCISSOR\n",
    "            print(\"YOU WIN\")\n",
    "            scoreU=scoreU+1\n",
    "\n",
    "    if(user==0):#PAPER\n",
    "        if(comp==-1):#ROCK\n",
    "            print(\"YOU WIN\")\n",
    "            scoreU=scoreU+1\n",
    "        if(comp==1):#SCISSOR\n",
    "            print(\"YOU LOSE\")\n",
    "            scoreC=scoreC+1\n",
    "\n",
    "    if(user==1):#SCISSOR\n",
    "        if(comp==-1):#ROCK\n",
    "            print(\"YOU LOSE\")\n",
    "            scoreC=scoreC+1\n",
    "        if(comp==0):#PAPER\n",
    "            print(\"YOU WIN\")\n",
    "            scoreU=scoreU+1\n",
    "    n=n-1\n",
    "print(f\"Score will be:\\nUSER\\tBOT\\tDRAW\\n{scoreU}\\t{scoreC}\\t{scoreD}\")\n",
    "if(scoreC==scoreU):\n",
    "    print(\"DRAW\")\n",
    "elif(scoreU<scoreC):\n",
    "    print(\"YOU LOSE\")\n",
    "else:\n",
    "    print(\"YOU WIN\")"
   ]
  }
 ],
 "metadata": {
  "kernelspec": {
   "display_name": "Python 3",
   "language": "python",
   "name": "python3"
  },
  "language_info": {
   "codemirror_mode": {
    "name": "ipython",
    "version": 3
   },
   "file_extension": ".py",
   "mimetype": "text/x-python",
   "name": "python",
   "nbconvert_exporter": "python",
   "pygments_lexer": "ipython3",
   "version": "3.12.3"
  }
 },
 "nbformat": 4,
 "nbformat_minor": 2
}

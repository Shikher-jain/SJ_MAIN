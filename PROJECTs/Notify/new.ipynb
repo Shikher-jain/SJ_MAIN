{
 "cells": [
  {
   "cell_type": "code",
   "execution_count": null,
   "metadata": {},
   "outputs": [],
   "source": [
    "import cv2 \n",
    "import numpy\n",
    "import pandas\n",
    "import sys\n",
    "print(sys.executable)\n",
    "print(\"Version of cv2:\",cv2.__version__)\n",
    "print(\"Version of numpy:\",numpy.__version__)\n",
    "data={\n",
    "    \"Studests\":[\"abcd\",\"efgh\",\"ijkl\",\"mnop\"],\n",
    "    \"sports\":[\"hockey\",\"cricket\",\"football\",\"baseball\"],\n",
    "    \"marks\":[98,86,85,90]\n",
    "    }\n",
    "df=pandas.DataFrame(data,index = [\"type 1\",\"type 2\",\"type 3\",\"type 4\"])\n",
    "print(df)\n",
    "display(df)\n",
    "print(df.index)"
   ]
  },
  {
   "cell_type": "code",
   "execution_count": null,
   "metadata": {},
   "outputs": [],
   "source": [
    "import os\n",
    "import time\n",
    "from plyer import notification\n",
    "\n",
    "if __name__==\"__main__\":\n",
    "    while True:\n",
    "# time.sleep(10)\n",
    "        notification.notify(title=\"Remainder To Take A Break\",message='''Have a sip of water''',timeout=3)\n",
    "        time.sleep(10)"
   ]
  },
  {
   "cell_type": "code",
   "execution_count": 5,
   "metadata": {},
   "outputs": [
    {
     "name": "stderr",
     "output_type": "stream",
     "text": [
      "INFO:root:Sending notification\n",
      "INFO:root:Sending notification\n"
     ]
    },
    {
     "ename": "KeyboardInterrupt",
     "evalue": "",
     "output_type": "error",
     "traceback": [
      "\u001b[1;31m---------------------------------------------------------------------------\u001b[0m",
      "\u001b[1;31mKeyboardInterrupt\u001b[0m                         Traceback (most recent call last)",
      "Cell \u001b[1;32mIn[5], line 19\u001b[0m\n\u001b[0;32m     17\u001b[0m logging\u001b[38;5;241m.\u001b[39minfo(\u001b[38;5;124m\"\u001b[39m\u001b[38;5;124mSending notification\u001b[39m\u001b[38;5;124m\"\u001b[39m)\n\u001b[0;32m     18\u001b[0m send_notification()\n\u001b[1;32m---> 19\u001b[0m \u001b[43mtime\u001b[49m\u001b[38;5;241;43m.\u001b[39;49m\u001b[43msleep\u001b[49m\u001b[43m(\u001b[49m\u001b[43minterval\u001b[49m\u001b[43m)\u001b[49m\n",
      "\u001b[1;31mKeyboardInterrupt\u001b[0m: "
     ]
    }
   ],
   "source": [
    "import time\n",
    "from plyer import notification\n",
    "import logging\n",
    "\n",
    "logging.basicConfig(level=logging.INFO)\n",
    "\n",
    "def send_notification():\n",
    "    notification.notify(\n",
    "        title=\"Reminder To Take A Break\",\n",
    "        message=\"Have a sip of water\",\n",
    "        timeout=3\n",
    "    )\n",
    "\n",
    "if __name__ == \"__main__\":\n",
    "    interval = 10  # Time interval between notifications in seconds\n",
    "    while True:\n",
    "        logging.info(\"Sending notification\")\n",
    "        send_notification()\n",
    "        time.sleep(interval)\n"
   ]
  },
  {
   "cell_type": "code",
   "execution_count": 6,
   "metadata": {},
   "outputs": [
    {
     "ename": "KeyboardInterrupt",
     "evalue": "",
     "output_type": "error",
     "traceback": [
      "\u001b[1;31m---------------------------------------------------------------------------\u001b[0m",
      "\u001b[1;31mKeyboardInterrupt\u001b[0m                         Traceback (most recent call last)",
      "Cell \u001b[1;32mIn[6], line 15\u001b[0m\n\u001b[0;32m     13\u001b[0m \u001b[38;5;28;01mwhile\u001b[39;00m \u001b[38;5;28;01mTrue\u001b[39;00m:\n\u001b[0;32m     14\u001b[0m     send_notification()\n\u001b[1;32m---> 15\u001b[0m     \u001b[43mtime\u001b[49m\u001b[38;5;241;43m.\u001b[39;49m\u001b[43msleep\u001b[49m\u001b[43m(\u001b[49m\u001b[43minterval\u001b[49m\u001b[43m)\u001b[49m\n",
      "\u001b[1;31mKeyboardInterrupt\u001b[0m: "
     ]
    }
   ],
   "source": [
    "import time\n",
    "from plyer import notification\n",
    "\n",
    "def send_notification():\n",
    "    notification.notify(\n",
    "        title=\"Reminder To Take A Break\",\n",
    "        message=\"Have a sip of water\",\n",
    "        timeout=3\n",
    "    )\n",
    "\n",
    "if __name__ == \"__main__\":\n",
    "    interval = 10  # Time interval between notifications in seconds \n",
    "    while True:\n",
    "        send_notification()\n",
    "        time.sleep(interval)\n"
   ]
  }
 ],
 "metadata": {
  "kernelspec": {
   "display_name": "Python 3",
   "language": "python",
   "name": "python3"
  },
  "language_info": {
   "codemirror_mode": {
    "name": "ipython",
    "version": 3
   },
   "file_extension": ".py",
   "mimetype": "text/x-python",
   "name": "python",
   "nbconvert_exporter": "python",
   "pygments_lexer": "ipython3",
   "version": "3.12.3"
  }
 },
 "nbformat": 4,
 "nbformat_minor": 2
}
